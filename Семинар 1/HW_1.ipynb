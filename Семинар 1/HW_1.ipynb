{
 "cells": [
  {
   "cell_type": "markdown",
   "id": "7a712dd1",
   "metadata": {},
   "source": [
    "## Задание 1"
   ]
  },
  {
   "cell_type": "markdown",
   "id": "9f2e50cd",
   "metadata": {},
   "source": [
    "На складе лежат разные фрукты в разном количестве. Нужно написать функцию, которая на вход принимает любое количество названий фруктов и их количество, а возвращает общее количество фруктов на складе"
   ]
  },
  {
   "cell_type": "code",
   "execution_count": 25,
   "id": "e54fd7a4",
   "metadata": {},
   "outputs": [
    {
     "data": {
      "text/plain": [
       "24"
      ]
     },
     "execution_count": 25,
     "metadata": {},
     "output_type": "execute_result"
    }
   ],
   "source": [
    "def fruit_sum(**kwargs) -> int:\n",
    "    return sum(kwargs.values())\n",
    "\n",
    "fruit_sum(apple = 8, orange = 6, banana = 10)"
   ]
  },
  {
   "cell_type": "markdown",
   "id": "4eab3e56",
   "metadata": {},
   "source": [
    "## Задание 2"
   ]
  },
  {
   "cell_type": "markdown",
   "id": "af84f7f8",
   "metadata": {},
   "source": [
    "Дан список с затратами на рекламу. Но в данных есть ошибки, некоторые затраты имеют отрицательную величину. Удалите такие значения из списка и посчитайте суммарные затраты <br>\n",
    "[100, 125, -90, 345, 655, -1, 0, 200]<br>\n",
    "Используйте list comprehensions"
   ]
  },
  {
   "cell_type": "code",
   "execution_count": 12,
   "id": "3403639c",
   "metadata": {},
   "outputs": [
    {
     "data": {
      "text/plain": [
       "1425"
      ]
     },
     "execution_count": 12,
     "metadata": {},
     "output_type": "execute_result"
    }
   ],
   "source": [
    "prices_wrong = [100, 125, -90, 345, 655, -1, 0, 200]\n",
    "\n",
    "sum([i for i in prices_wrong if i > 0])\n"
   ]
  },
  {
   "cell_type": "markdown",
   "id": "cd3a41d3",
   "metadata": {},
   "source": [
    "## Задание 3"
   ]
  },
  {
   "cell_type": "markdown",
   "id": "686ea5d2",
   "metadata": {},
   "source": [
    "### Условие\n",
    "Даны два списка. <br>\n",
    "\n",
    "Дата покупки <br>\n",
    "['2021-09-14', '2021-12-15', '2021-09-08', '2021-12-05', '2021-10-09', '2021-09-30', '2021-12-22', '2021-11-29', '2021-12-24', '2021-11-26', '2021-10-27', '2021-12-18', '2021-11-09', '2021-11-23', '2021-09-27', '2021-10-02', '2021-12-27', '2021-09-20', '2021-12-13', '2021-11-01', '2021-11-09', '2021-12-06', '2021-12-08', '2021-10-09', '2021-10-31', '2021-09-30', '2021-11-09', '2021-12-13', '2021-10-26', '2021-12-09'] <br>\n",
    "\n",
    "Суммы покупок по датам <br>\n",
    "[1270, 8413, 9028, 3703, 5739, 4095, 295, 4944, 5723, 3701, 4471, 651, 7037, 4274, 6275, 4988, 6930, 2971, 6592, 2004, 2822, 519, 3406, 2732, 5015, 2008, 316, 6333, 5700, 2887]"
   ]
  },
  {
   "cell_type": "markdown",
   "id": "bceb8cc1",
   "metadata": {},
   "source": [
    "### Задание 3.1 "
   ]
  },
  {
   "cell_type": "markdown",
   "id": "65c07b0f",
   "metadata": {},
   "source": [
    "Найдите, какая выручка у компании в ноябре <br>\n",
    "Используйте list comprehensions"
   ]
  },
  {
   "cell_type": "code",
   "execution_count": 26,
   "id": "8f6375b6",
   "metadata": {},
   "outputs": [
    {
     "data": {
      "text/plain": [
       "25098"
      ]
     },
     "execution_count": 26,
     "metadata": {},
     "output_type": "execute_result"
    }
   ],
   "source": [
    "purchase_date = ['2021-09-14', '2021-12-15', '2021-09-08', '2021-12-05', '2021-10-09', '2021-09-30', '2021-12-22', \n",
    "                 '2021-11-29', '2021-12-24', '2021-11-26', '2021-10-27', '2021-12-18', '2021-11-09', '2021-11-23', \n",
    "                 '2021-09-27', '2021-10-02', '2021-12-27', '2021-09-20', '2021-12-13', '2021-11-01', '2021-11-09', \n",
    "                 '2021-12-06', '2021-12-08', '2021-10-09', '2021-10-31', '2021-09-30', '2021-11-09', '2021-12-13', \n",
    "                 '2021-10-26', '2021-12-09']\n",
    "\n",
    "purchase_sum = [1270, 8413, 9028, 3703, 5739, 4095, 295, \n",
    "                4944, 5723, 3701, 4471, 651, 7037, 4274, \n",
    "                6275, 4988, 6930, 2971, 6592, 2004, 2822, \n",
    "                519, 3406, 2732, 5015, 2008, 316, 6333, \n",
    "                5700, 2887]\n",
    "\n",
    "sum([purchase_sum[i] for i in range(len(purchase_sum)) if \"-11-\" in purchase_date[i]])"
   ]
  },
  {
   "cell_type": "markdown",
   "id": "33a8953e",
   "metadata": {},
   "source": [
    "### Задание 3.2\n",
    "Найдите выручку компании в зависимости от месяца <br>\n",
    "Для этого напишите функцию, которая на вход принимает список с датами и список с выручкой, а на выходе словарь, где ключи - это месяцы, а значения - это выручка. <br>\n",
    "Используйте аннотирование типов."
   ]
  },
  {
   "cell_type": "code",
   "execution_count": 34,
   "id": "23a60232",
   "metadata": {},
   "outputs": [
    {
     "data": {
      "text/plain": [
       "{'сентябрь': 25647, 'декабрь': 45452, 'октябрь': 28645, 'ноябрь': 25098}"
      ]
     },
     "execution_count": 34,
     "metadata": {},
     "output_type": "execute_result"
    }
   ],
   "source": [
    "month_ru = [\"январь\", \"февраль\", \"март\", \"апрель\", \"май\", \"июнь\", \n",
    "            \"июль\", \"август\", \"сентябрь\", \"октябрь\", \"ноябрь\", \"декабрь\"]\n",
    "\n",
    "def income(purchase_date: list, purchase_sum: list) -> dict:\n",
    "    income_data = {}\n",
    "    for i in range(len(purchase_date)):\n",
    "        current_month = month_ru[int(purchase_date[i][5:7]) - 1]\n",
    "        if current_month in income_data.keys():\n",
    "            income_data[current_month] += purchase_sum[i]\n",
    "        else:\n",
    "            income_data[current_month] = purchase_sum[i]\n",
    "            \n",
    "    return income_data\n",
    "\n",
    "\n",
    "income(purchase_date, purchase_sum)"
   ]
  }
 ],
 "metadata": {
  "kernelspec": {
   "display_name": "Python 3 (ipykernel)",
   "language": "python",
   "name": "python3"
  },
  "language_info": {
   "codemirror_mode": {
    "name": "ipython",
    "version": 3
   },
   "file_extension": ".py",
   "mimetype": "text/x-python",
   "name": "python",
   "nbconvert_exporter": "python",
   "pygments_lexer": "ipython3",
   "version": "3.9.13"
  }
 },
 "nbformat": 4,
 "nbformat_minor": 5
}
